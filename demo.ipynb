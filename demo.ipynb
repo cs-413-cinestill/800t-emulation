{
 "cells": [
  {
   "metadata": {},
   "cell_type": "markdown",
   "source": [
    "# 800t Simulation Demo\n",
    "\n",
    "This notebook demonstrates the steps to take to simulate the 800t look on a RAW digital image captured from our g81 camera"
   ],
   "id": "6bcab88036d67607"
  },
  {
   "metadata": {
    "is_executing": true
   },
   "cell_type": "code",
   "source": [
    "%load_ext autoreload\n",
    "%autoreload 2\n",
    "# Enabling the `widget` backend.\n",
    "# This requires jupyter-matplotlib a.k.a. ipympl.\n",
    "# ipympl can be install via pip or conda.\n",
    "%matplotlib widget\n",
    "import numpy as np\n",
    "from PIL import Image\n",
    "import matplotlib.pyplot as plt\n",
    "from digitalimage import DigitalImage\n",
    "from colortransfer import ColorTransfer\n",
    "from linearization import LinearExponential\n",
    "import halo"
   ],
   "id": "1d7dcc0d3b228e62",
   "outputs": [],
   "execution_count": null
  },
  {
   "metadata": {},
   "cell_type": "markdown",
   "source": [
    "## Import RAW digital file"
   ],
   "id": "a96bb34ec070eba6"
  },
  {
   "metadata": {
    "is_executing": true
   },
   "cell_type": "code",
   "source": [
    "digital_img = DigitalImage(\"dataset\\digital\\P1480512.RW2\", 2)\n",
    "plt.figure()\n",
    "plt.imshow(digital_img.thumbnail)"
   ],
   "id": "45891b908db9a11f",
   "outputs": [],
   "execution_count": null
  },
  {
   "metadata": {},
   "cell_type": "markdown",
   "source": [
    "## Apply Halation"
   ],
   "id": "81b0fe5be70310"
  },
  {
   "metadata": {
    "is_executing": true
   },
   "cell_type": "code",
   "source": [
    "# Halation s\n",
    "halated = halo.add_halation(digital_img.raw)"
   ],
   "id": "a4b0a4e0c8b9de72",
   "outputs": [],
   "execution_count": null
  },
  {
   "metadata": {},
   "cell_type": "markdown",
   "source": [
    "## Apply Color Transfer Function"
   ],
   "id": "a4fcbe2bfde5755e"
  },
  {
   "metadata": {
    "is_executing": true
   },
   "cell_type": "code",
   "source": [
    "# import color transfer function\n",
    "TE226_ctf = ColorTransfer.load(\"color_transfer_data/transfer_functions/TE226.ctf\")\n",
    "\n",
    "# import linearization function\n",
    "TE226_lfn = LinearExponential.load(\"color_transfer_data/linearization_functions/TE226.lfn\")\n",
    "\n",
    "# should take around 15s\n",
    "transferred = TE226_ctf.apply(halated, TE226_lfn.apply_inv)\n",
    "\n",
    "plt.figure()\n",
    "plt.imshow(transferred)"
   ],
   "id": "d588b6e86fb44694",
   "outputs": [],
   "execution_count": null
  },
  {
   "metadata": {},
   "cell_type": "markdown",
   "source": [
    "## Add grain"
   ],
   "id": "18b4d0ca064b2454"
  },
  {
   "metadata": {
    "is_executing": true
   },
   "cell_type": "code",
   "source": [
    "# Todo grain\n",
    "grained = transferred"
   ],
   "id": "a4a3c79a868c7c45",
   "outputs": [],
   "execution_count": null
  },
  {
   "metadata": {},
   "cell_type": "markdown",
   "source": [
    "## Save image"
   ],
   "id": "64eae14e2806a8dd"
  },
  {
   "metadata": {
    "is_executing": true
   },
   "cell_type": "code",
   "source": [
    "path = \"out.png\"\n",
    "Image.fromarray(np.uint8(grained*255)).save(path)"
   ],
   "id": "810ec36c5c9fa08",
   "outputs": [],
   "execution_count": null
  }
 ],
 "metadata": {
  "kernelspec": {
   "display_name": "Python 3",
   "language": "python",
   "name": "python3"
  },
  "language_info": {
   "codemirror_mode": {
    "name": "ipython",
    "version": 2
   },
   "file_extension": ".py",
   "mimetype": "text/x-python",
   "name": "python",
   "nbconvert_exporter": "python",
   "pygments_lexer": "ipython2",
   "version": "2.7.6"
  }
 },
 "nbformat": 4,
 "nbformat_minor": 5
}
