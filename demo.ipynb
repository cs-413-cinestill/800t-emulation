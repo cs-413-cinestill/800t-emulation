{
 "cells": [
  {
   "metadata": {},
   "cell_type": "markdown",
   "source": [
    "# 800t Simulation Demo\n",
    "\n",
    "This notebook demonstrates the steps to take to simulate the 800t look on a RAW digital image captured from our g81 camera"
   ],
   "id": "6bcab88036d67607"
  },
  {
   "cell_type": "code",
   "outputs": [],
   "source": [
    "%load_ext autoreload\n",
    "%autoreload 2\n",
    "# Enabling the `widget` backend.\n",
    "# This requires jupyter-matplotlib a.k.a. ipympl.\n",
    "# ipympl can be install via pip or conda.\n",
    "%matplotlib widget\n",
    "import numpy as np\n",
    "from PIL import Image\n",
    "import matplotlib.pyplot as plt\n",
    "from digitalimage import DigitalImage\n",
    "from colortransfer import ColorTransfer\n",
    "from linearization import LinearExponential\n",
    "from grain_rendering import grain_interface\n",
    "import halo"
   ],
   "metadata": {
    "collapsed": false
   },
   "id": "ec2906ef56d6cf0f"
  },
  {
   "cell_type": "markdown",
   "source": [
    "## Import RAW digital file"
   ],
   "metadata": {
    "collapsed": false
   },
   "id": "398138f1bf6d6bbb"
  },
  {
   "cell_type": "code",
   "outputs": [],
   "source": [
    "digital_img = DigitalImage(\"dataset\\digital\\P1480512.RW2\", 2)\n",
    "plt.figure()\n",
    "plt.imshow(digital_img.thumbnail)"
   ],
   "metadata": {
    "collapsed": false
   },
   "id": "b101adcde6db25c8"
  },
  {
   "cell_type": "markdown",
   "source": [
    "## Apply Halation"
   ],
   "metadata": {
    "collapsed": false
   },
   "id": "98a04eec973f7281"
  },
  {
   "cell_type": "code",
   "outputs": [],
   "source": [
    "# Halation\n",
    "halated = halo.add_halation(digital_img.raw)"
   ],
   "metadata": {
    "collapsed": false
   },
   "id": "7ae71fdf3ba35362"
  },
  {
   "cell_type": "markdown",
   "source": [
    "## Apply Color Transfer Function"
   ],
   "metadata": {
    "collapsed": false
   },
   "id": "9702c4f464f422be"
  },
  {
   "cell_type": "code",
   "outputs": [],
   "source": [
    "# import color transfer function\n",
    "TE226_ctf = ColorTransfer.load(\"color_transfer_data/transfer_functions/TE226.ctf\")\n",
    "\n",
    "# import linearization function\n",
    "TE226_lfn = LinearExponential.load(\"color_transfer_data/linearization_functions/TE226.lfn\")\n",
    "\n",
    "# should take around 15s\n",
    "transferred = TE226_ctf.apply(halated, TE226_lfn.apply_inv)\n",
    "\n",
    "plt.figure()\n",
    "plt.imshow(transferred)"
   ],
   "metadata": {
    "collapsed": false
   },
   "id": "949a5bc7451261cb"
  },
  {
   "cell_type": "markdown",
   "source": [
    "## Add grain"
   ],
   "metadata": {
    "collapsed": false
   },
   "id": "f175893231c05b27"
  },
  {
   "cell_type": "code",
   "outputs": [],
   "source": [
    "grained = grain_interface(transferred)"
   ],
   "metadata": {
    "collapsed": false
   },
   "id": "e79c27b214597671"
  },
  {
   "metadata": {},
   "cell_type": "markdown",
   "source": "## Save image",
   "id": "64eae14e2806a8dd"
  },
  {
   "metadata": {
    "ExecuteTime": {
     "end_time": "2024-05-29T10:47:13.585298Z",
     "start_time": "2024-05-29T10:47:02.517533Z"
    }
   },
   "cell_type": "code",
   "source": [
    "path = \"out.png\"\n",
    "Image.fromarray(np.uint8(grained*255)).save(path)"
   ],
   "id": "810ec36c5c9fa08",
   "outputs": [],
   "execution_count": 11
  }
 ],
 "metadata": {
  "kernelspec": {
   "display_name": "Python 3",
   "language": "python",
   "name": "python3"
  },
  "language_info": {
   "codemirror_mode": {
    "name": "ipython",
    "version": 2
   },
   "file_extension": ".py",
   "mimetype": "text/x-python",
   "name": "python",
   "nbconvert_exporter": "python",
   "pygments_lexer": "ipython2",
   "version": "2.7.6"
  }
 },
 "nbformat": 4,
 "nbformat_minor": 5
}
